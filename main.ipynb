{
 "cells": [
  {
   "cell_type": "markdown",
   "metadata": {},
   "source": [
    "Install all the requirements"
   ]
  },
  {
   "cell_type": "code",
   "execution_count": 1,
   "metadata": {},
   "outputs": [
    {
     "name": "stdout",
     "output_type": "stream",
     "text": [
      "Requirement already satisfied: torch in e:\\anaconda\\envs\\gpu2\\lib\\site-packages (1.11.0+cu113)\n",
      "Requirement already satisfied: torchvision in e:\\anaconda\\envs\\gpu2\\lib\\site-packages (0.12.0+cu113)\n",
      "Requirement already satisfied: torchaudio in e:\\anaconda\\envs\\gpu2\\lib\\site-packages (0.11.0+cu113)\n",
      "Requirement already satisfied: typing-extensions in e:\\anaconda\\envs\\gpu2\\lib\\site-packages (from torch) (4.1.1)\n",
      "Requirement already satisfied: pillow!=8.3.*,>=5.3.0 in e:\\anaconda\\envs\\gpu2\\lib\\site-packages (from torchvision) (9.0.1)\n",
      "Requirement already satisfied: requests in e:\\anaconda\\envs\\gpu2\\lib\\site-packages (from torchvision) (2.27.1)\n",
      "Requirement already satisfied: numpy in e:\\anaconda\\envs\\gpu2\\lib\\site-packages (from torchvision) (1.22.3)\n",
      "Requirement already satisfied: charset-normalizer~=2.0.0 in e:\\anaconda\\envs\\gpu2\\lib\\site-packages (from requests->torchvision) (2.0.12)\n",
      "Requirement already satisfied: urllib3<1.27,>=1.21.1 in e:\\anaconda\\envs\\gpu2\\lib\\site-packages (from requests->torchvision) (1.26.9)\n",
      "Requirement already satisfied: idna<4,>=2.5 in e:\\anaconda\\envs\\gpu2\\lib\\site-packages (from requests->torchvision) (3.3)\n",
      "Requirement already satisfied: certifi>=2017.4.17 in e:\\anaconda\\envs\\gpu2\\lib\\site-packages (from requests->torchvision) (2021.10.8)\n",
      "Note: you may need to restart the kernel to use updated packages.\n",
      "Requirement already satisfied: numpy in e:\\anaconda\\envs\\gpu2\\lib\\site-packages (1.22.3)\n",
      "Requirement already satisfied: sklearn in e:\\anaconda\\envs\\gpu2\\lib\\site-packages (0.0)\n",
      "Requirement already satisfied: scikit-learn in e:\\anaconda\\envs\\gpu2\\lib\\site-packages (from sklearn) (1.0.2)\n",
      "Requirement already satisfied: threadpoolctl>=2.0.0 in e:\\anaconda\\envs\\gpu2\\lib\\site-packages (from scikit-learn->sklearn) (3.1.0)\n",
      "Requirement already satisfied: joblib>=0.11 in e:\\anaconda\\envs\\gpu2\\lib\\site-packages (from scikit-learn->sklearn) (1.1.0)\n",
      "Requirement already satisfied: scipy>=1.1.0 in e:\\anaconda\\envs\\gpu2\\lib\\site-packages (from scikit-learn->sklearn) (1.8.0)\n",
      "Note: you may need to restart the kernel to use updated packages.\n",
      "Requirement already satisfied: pandas in e:\\anaconda\\envs\\gpu2\\lib\\site-packages (1.4.1)\n",
      "Requirement already satisfied: transformers in e:\\anaconda\\envs\\gpu2\\lib\\site-packages (4.18.0)\n",
      "Requirement already satisfied: python-dateutil>=2.8.1 in e:\\anaconda\\envs\\gpu2\\lib\\site-packages (from pandas) (2.8.2)\n",
      "Requirement already satisfied: numpy>=1.18.5 in e:\\anaconda\\envs\\gpu2\\lib\\site-packages (from pandas) (1.22.3)\n",
      "Requirement already satisfied: pytz>=2020.1 in e:\\anaconda\\envs\\gpu2\\lib\\site-packages (from pandas) (2022.1)\n",
      "Requirement already satisfied: filelock in e:\\anaconda\\envs\\gpu2\\lib\\site-packages (from transformers) (3.6.0)\n",
      "Requirement already satisfied: regex!=2019.12.17 in e:\\anaconda\\envs\\gpu2\\lib\\site-packages (from transformers) (2022.3.15)\n",
      "Requirement already satisfied: tokenizers!=0.11.3,<0.13,>=0.11.1 in e:\\anaconda\\envs\\gpu2\\lib\\site-packages (from transformers) (0.12.1)\n",
      "Requirement already satisfied: tqdm>=4.27 in e:\\anaconda\\envs\\gpu2\\lib\\site-packages (from transformers) (4.63.1)\n",
      "Requirement already satisfied: requests in e:\\anaconda\\envs\\gpu2\\lib\\site-packages (from transformers) (2.27.1)\n",
      "Requirement already satisfied: sacremoses in e:\\anaconda\\envs\\gpu2\\lib\\site-packages (from transformers) (0.0.49)\n",
      "Requirement already satisfied: pyyaml>=5.1 in e:\\anaconda\\envs\\gpu2\\lib\\site-packages (from transformers) (6.0)\n",
      "Requirement already satisfied: huggingface-hub<1.0,>=0.1.0 in e:\\anaconda\\envs\\gpu2\\lib\\site-packages (from transformers) (0.5.1)\n",
      "Requirement already satisfied: packaging>=20.0 in e:\\anaconda\\envs\\gpu2\\lib\\site-packages (from transformers) (21.3)\n",
      "Requirement already satisfied: typing-extensions>=3.7.4.3 in e:\\anaconda\\envs\\gpu2\\lib\\site-packages (from huggingface-hub<1.0,>=0.1.0->transformers) (4.1.1)\n",
      "Requirement already satisfied: pyparsing!=3.0.5,>=2.0.2 in e:\\anaconda\\envs\\gpu2\\lib\\site-packages (from packaging>=20.0->transformers) (3.0.7)\n",
      "Requirement already satisfied: six>=1.5 in e:\\anaconda\\envs\\gpu2\\lib\\site-packages (from python-dateutil>=2.8.1->pandas) (1.16.0)\n",
      "Requirement already satisfied: colorama in e:\\anaconda\\envs\\gpu2\\lib\\site-packages (from tqdm>=4.27->transformers) (0.4.4)\n",
      "Requirement already satisfied: charset-normalizer~=2.0.0 in e:\\anaconda\\envs\\gpu2\\lib\\site-packages (from requests->transformers) (2.0.12)\n",
      "Requirement already satisfied: urllib3<1.27,>=1.21.1 in e:\\anaconda\\envs\\gpu2\\lib\\site-packages (from requests->transformers) (1.26.9)\n",
      "Requirement already satisfied: idna<4,>=2.5 in e:\\anaconda\\envs\\gpu2\\lib\\site-packages (from requests->transformers) (3.3)\n",
      "Requirement already satisfied: certifi>=2017.4.17 in e:\\anaconda\\envs\\gpu2\\lib\\site-packages (from requests->transformers) (2021.10.8)\n",
      "Requirement already satisfied: click in e:\\anaconda\\envs\\gpu2\\lib\\site-packages (from sacremoses->transformers) (8.1.2)\n",
      "Requirement already satisfied: joblib in e:\\anaconda\\envs\\gpu2\\lib\\site-packages (from sacremoses->transformers) (1.1.0)\n",
      "Note: you may need to restart the kernel to use updated packages.\n"
     ]
    }
   ],
   "source": [
    "%pip install torch torchvision torchaudio\n",
    "%pip install numpy sklearn\n",
    "%pip install pandas transformers "
   ]
  },
  {
   "cell_type": "markdown",
   "metadata": {},
   "source": [
    "Explore the data sets"
   ]
  },
  {
   "cell_type": "code",
   "execution_count": 13,
   "metadata": {},
   "outputs": [
    {
     "name": "stdout",
     "output_type": "stream",
     "text": [
      "31\n"
     ]
    }
   ],
   "source": [
    "import os\n",
    "# change directory to the directory of this script\n",
    "os.chdir('G:\\Projects\\CS-541-optional-project\\DAG_ERC_CODE')\n",
    "import DAG_ERC_CODE.dataloader as dataloader\n",
    "import DAG_ERC_CODE.dataset as dataset\n",
    "speaker_vocab, label_vocab, person_vec = dataloader.load_vocab('IEMOCAP')\n",
    "testset = dataset.IEMOCAPDataset('IEMOCAP', 'test',  speaker_vocab, label_vocab, '')"
   ]
  },
  {
   "cell_type": "code",
   "execution_count": 17,
   "metadata": {},
   "outputs": [
    {
     "name": "stdout",
     "output_type": "stream",
     "text": [
      "Namespace(bert_model_dir='', bert_tokenizer_dir='', bert_dim=1024, hidden_dim=300, mlp_layers=2, gnn_layers=4, emb_dim=1024, attn_type='rgcn', no_rel_attn=False, max_sent_len=200, no_cuda=False, dataset_name='IEMOCAP', windowp=1, windowf=0, max_grad_norm=5.0, lr=0.0005, dropout=0.2, batch_size=16, epochs=30, tensorboard=False, nodal_att_type=None)\n",
      "Running on GPU\n",
      "building vocab.. \n",
      "building datasets..\n",
      "100\n",
      "20\n",
      "31\n",
      "building model..\n"
     ]
    },
    {
     "name": "stderr",
     "output_type": "stream",
     "text": [
      "[2022-04-17 09:36:23,249][run.py][line:113][INFO] start training on GPU 0!\n",
      "[2022-04-17 09:36:23,250][run.py][line:114][INFO] Namespace(bert_model_dir='', bert_tokenizer_dir='', bert_dim=1024, hidden_dim=300, mlp_layers=2, gnn_layers=4, emb_dim=1024, attn_type='rgcn', no_rel_attn=False, max_sent_len=200, no_cuda=False, dataset_name='IEMOCAP', windowp=1, windowf=0, max_grad_norm=5.0, lr=0.0005, dropout=0.2, batch_size=16, epochs=30, tensorboard=False, nodal_att_type=None, cuda=True)\n",
      "E:\\Anaconda\\envs\\gpu2\\lib\\site-packages\\transformers\\optimization.py:306: FutureWarning: This implementation of AdamW is deprecated and will be removed in a future version. Use the PyTorch implementation torch.optim.AdamW instead, or set `no_deprecation_warning=True` to disable this warning\n",
      "  warnings.warn(\n",
      "[2022-04-17 09:37:01,406][run.py][line:168][INFO] Epoch: 1, train_loss: 1.2607, train_acc: 59.36, train_fscore: 58.84, valid_loss: 0.9525, valid_acc: 61.63, valid_fscore: 60.6, test_loss: 1.0045, test_acc: 63.32, test_fscore: 61.31, time: 29.61 sec\n",
      "[2022-04-17 09:37:17,825][run.py][line:168][INFO] Epoch: 2, train_loss: 0.6548, train_acc: 78.76, train_fscore: 78.57, valid_loss: 1.2267, valid_acc: 62.14, valid_fscore: 62.78, test_loss: 1.2387, test_acc: 62.64, test_fscore: 62.71, time: 16.42 sec\n",
      "[2022-04-17 09:37:34,882][run.py][line:168][INFO] Epoch: 3, train_loss: 0.5972, train_acc: 80.35, train_fscore: 80.36, valid_loss: 1.0997, valid_acc: 62.96, valid_fscore: 63.26, test_loss: 1.0174, test_acc: 64.73, test_fscore: 64.39, time: 17.06 sec\n",
      "[2022-04-17 09:37:51,458][run.py][line:168][INFO] Epoch: 4, train_loss: 0.5548, train_acc: 80.01, train_fscore: 79.7, valid_loss: 1.0581, valid_acc: 65.51, valid_fscore: 65.77, test_loss: 0.9439, test_acc: 64.12, test_fscore: 64.29, time: 16.58 sec\n",
      "[2022-04-17 09:38:08,166][run.py][line:168][INFO] Epoch: 5, train_loss: 0.525, train_acc: 81.98, train_fscore: 81.99, valid_loss: 1.0872, valid_acc: 63.98, valid_fscore: 64.35, test_loss: 0.98, test_acc: 66.21, test_fscore: 65.8, time: 16.71 sec\n",
      "[2022-04-17 09:38:24,863][run.py][line:168][INFO] Epoch: 6, train_loss: 0.5315, train_acc: 82.02, train_fscore: 81.97, valid_loss: 1.0903, valid_acc: 65.31, valid_fscore: 65.68, test_loss: 0.9779, test_acc: 65.23, test_fscore: 65.33, time: 16.7 sec\n",
      "[2022-04-17 09:38:41,660][run.py][line:168][INFO] Epoch: 7, train_loss: 0.5205, train_acc: 82.13, train_fscore: 82.08, valid_loss: 0.9907, valid_acc: 64.59, valid_fscore: 64.93, test_loss: 0.974, test_acc: 64.86, test_fscore: 64.66, time: 16.8 sec\n",
      "[2022-04-17 09:38:58,129][run.py][line:168][INFO] Epoch: 8, train_loss: 0.5043, train_acc: 83.55, train_fscore: 83.55, valid_loss: 1.0147, valid_acc: 64.49, valid_fscore: 64.88, test_loss: 0.9627, test_acc: 67.14, test_fscore: 67.12, time: 16.47 sec\n",
      "[2022-04-17 09:39:14,232][run.py][line:168][INFO] Epoch: 9, train_loss: 0.4864, train_acc: 83.19, train_fscore: 83.15, valid_loss: 0.9573, valid_acc: 65.1, valid_fscore: 65.39, test_loss: 0.9586, test_acc: 65.72, test_fscore: 65.66, time: 16.1 sec\n",
      "[2022-04-17 09:39:30,563][run.py][line:168][INFO] Epoch: 10, train_loss: 0.4609, train_acc: 83.8, train_fscore: 83.78, valid_loss: 1.0675, valid_acc: 64.9, valid_fscore: 65.45, test_loss: 0.9595, test_acc: 66.52, test_fscore: 66.54, time: 16.33 sec\n",
      "[2022-04-17 09:39:46,363][run.py][line:168][INFO] Epoch: 11, train_loss: 0.4627, train_acc: 83.8, train_fscore: 83.8, valid_loss: 1.0288, valid_acc: 63.57, valid_fscore: 64.14, test_loss: 0.9917, test_acc: 66.83, test_fscore: 66.67, time: 15.8 sec\n",
      "[2022-04-17 09:40:02,429][run.py][line:168][INFO] Epoch: 12, train_loss: 0.4673, train_acc: 83.24, train_fscore: 83.21, valid_loss: 1.0671, valid_acc: 64.69, valid_fscore: 65.18, test_loss: 0.9899, test_acc: 67.02, test_fscore: 67.03, time: 16.07 sec\n",
      "[2022-04-17 09:40:18,852][run.py][line:168][INFO] Epoch: 13, train_loss: 0.4695, train_acc: 84.07, train_fscore: 84.06, valid_loss: 1.0174, valid_acc: 65.41, valid_fscore: 65.72, test_loss: 0.9636, test_acc: 66.77, test_fscore: 66.6, time: 16.42 sec\n",
      "[2022-04-17 09:40:35,131][run.py][line:168][INFO] Epoch: 14, train_loss: 0.4655, train_acc: 84.64, train_fscore: 84.62, valid_loss: 1.1189, valid_acc: 63.47, valid_fscore: 64.01, test_loss: 0.9963, test_acc: 66.52, test_fscore: 66.47, time: 16.28 sec\n",
      "[2022-04-17 09:40:51,126][run.py][line:168][INFO] Epoch: 15, train_loss: 0.4395, train_acc: 84.55, train_fscore: 84.5, valid_loss: 1.1424, valid_acc: 66.22, valid_fscore: 66.7, test_loss: 1.0412, test_acc: 66.21, test_fscore: 66.26, time: 15.99 sec\n",
      "[2022-04-17 09:41:07,184][run.py][line:168][INFO] Epoch: 16, train_loss: 0.4609, train_acc: 84.47, train_fscore: 84.47, valid_loss: 1.1689, valid_acc: 64.49, valid_fscore: 64.93, test_loss: 0.9836, test_acc: 67.69, test_fscore: 67.78, time: 16.06 sec\n",
      "[2022-04-17 09:41:22,883][run.py][line:168][INFO] Epoch: 17, train_loss: 0.451, train_acc: 84.51, train_fscore: 84.48, valid_loss: 0.9934, valid_acc: 64.49, valid_fscore: 65.29, test_loss: 0.9687, test_acc: 66.71, test_fscore: 66.78, time: 15.7 sec\n",
      "[2022-04-17 09:41:38,820][run.py][line:168][INFO] Epoch: 18, train_loss: 0.4225, train_acc: 84.72, train_fscore: 84.75, valid_loss: 1.1178, valid_acc: 65.51, valid_fscore: 65.8, test_loss: 0.9982, test_acc: 66.77, test_fscore: 66.57, time: 15.94 sec\n",
      "[2022-04-17 09:41:54,728][run.py][line:168][INFO] Epoch: 19, train_loss: 0.4154, train_acc: 85.48, train_fscore: 85.43, valid_loss: 1.3259, valid_acc: 65.61, valid_fscore: 66.09, test_loss: 1.0322, test_acc: 66.71, test_fscore: 66.77, time: 15.91 sec\n",
      "[2022-04-17 09:42:10,781][run.py][line:168][INFO] Epoch: 20, train_loss: 0.4038, train_acc: 85.62, train_fscore: 85.65, valid_loss: 1.1141, valid_acc: 64.18, valid_fscore: 64.78, test_loss: 1.0354, test_acc: 67.51, test_fscore: 67.29, time: 16.05 sec\n",
      "[2022-04-17 09:42:26,603][run.py][line:168][INFO] Epoch: 21, train_loss: 0.3993, train_acc: 86.33, train_fscore: 86.29, valid_loss: 1.1293, valid_acc: 65.71, valid_fscore: 66.16, test_loss: 1.061, test_acc: 66.83, test_fscore: 66.88, time: 15.82 sec\n",
      "[2022-04-17 09:42:42,603][run.py][line:168][INFO] Epoch: 22, train_loss: 0.3888, train_acc: 86.5, train_fscore: 86.52, valid_loss: 1.0948, valid_acc: 64.49, valid_fscore: 64.93, test_loss: 1.0365, test_acc: 67.39, test_fscore: 67.13, time: 16.0 sec\n",
      "[2022-04-17 09:42:58,935][run.py][line:168][INFO] Epoch: 23, train_loss: 0.3915, train_acc: 87.13, train_fscore: 87.08, valid_loss: 1.2648, valid_acc: 61.73, valid_fscore: 62.64, test_loss: 1.1453, test_acc: 65.78, test_fscore: 65.83, time: 16.33 sec\n",
      "[2022-04-17 09:43:15,313][run.py][line:168][INFO] Epoch: 24, train_loss: 0.3681, train_acc: 85.73, train_fscore: 85.79, valid_loss: 1.2567, valid_acc: 63.37, valid_fscore: 63.81, test_loss: 1.11, test_acc: 66.46, test_fscore: 65.86, time: 16.38 sec\n",
      "[2022-04-17 09:43:31,357][run.py][line:168][INFO] Epoch: 25, train_loss: 0.3407, train_acc: 87.59, train_fscore: 87.57, valid_loss: 1.2674, valid_acc: 62.65, valid_fscore: 63.27, test_loss: 1.1843, test_acc: 66.89, test_fscore: 66.82, time: 16.04 sec\n",
      "[2022-04-17 09:43:46,972][run.py][line:168][INFO] Epoch: 26, train_loss: 0.3282, train_acc: 88.05, train_fscore: 88.04, valid_loss: 1.2001, valid_acc: 64.59, valid_fscore: 64.94, test_loss: 1.1506, test_acc: 66.09, test_fscore: 65.9, time: 15.62 sec\n",
      "[2022-04-17 09:44:02,742][run.py][line:168][INFO] Epoch: 27, train_loss: 0.3276, train_acc: 88.61, train_fscore: 88.6, valid_loss: 1.3315, valid_acc: 64.9, valid_fscore: 65.12, test_loss: 1.1711, test_acc: 66.46, test_fscore: 66.43, time: 15.77 sec\n",
      "[2022-04-17 09:44:18,551][run.py][line:168][INFO] Epoch: 28, train_loss: 0.3381, train_acc: 88.2, train_fscore: 88.19, valid_loss: 1.2861, valid_acc: 63.78, valid_fscore: 64.34, test_loss: 1.2127, test_acc: 66.15, test_fscore: 66.22, time: 15.81 sec\n",
      "[2022-04-17 09:44:34,740][run.py][line:168][INFO] Epoch: 29, train_loss: 0.306, train_acc: 88.32, train_fscore: 88.33, valid_loss: 1.5331, valid_acc: 62.65, valid_fscore: 63.03, test_loss: 1.1859, test_acc: 67.57, test_fscore: 67.34, time: 16.19 sec\n",
      "[2022-04-17 09:44:50,764][run.py][line:168][INFO] Epoch: 30, train_loss: 0.2868, train_acc: 89.31, train_fscore: 89.29, valid_loss: 1.3752, valid_acc: 63.57, valid_fscore: 63.93, test_loss: 1.2409, test_acc: 67.26, test_fscore: 67.18, time: 16.02 sec\n",
      "[2022-04-17 09:44:50,764][run.py][line:180][INFO] finish training!\n",
      "[2022-04-17 09:44:50,764][run.py][line:196][INFO] Best F-Score based on validation:66.26\n",
      "[2022-04-17 09:44:50,764][run.py][line:197][INFO] Best F-Score based on test:67.78\n"
     ]
    }
   ],
   "source": [
    "!python run.py --dataset IEMOCAP --gnn_layers 4 --lr 0.0005 --batch_size 16 --epochs 30 --dropout 0.2"
   ]
  },
  {
   "cell_type": "code",
   "execution_count": 20,
   "metadata": {},
   "outputs": [
    {
     "name": "stdout",
     "output_type": "stream",
     "text": [
      "User Current Version:- 3.9.11 (main, Mar 30 2022, 02:45:55) [MSC v.1916 64 bit (AMD64)]\n"
     ]
    }
   ],
   "source": [
    "import sys\n",
    "  \n",
    "  \n",
    "print(\"User Current Version:-\", sys.version)"
   ]
  }
 ],
 "metadata": {
  "interpreter": {
   "hash": "67f69efe151d0dcdef6fdfc0180de1a7cdfe8a3bf7735cd9d7e5945c5774d967"
  },
  "kernelspec": {
   "display_name": "Python 3.9.11 ('gpu2')",
   "language": "python",
   "name": "python3"
  },
  "language_info": {
   "codemirror_mode": {
    "name": "ipython",
    "version": 3
   },
   "file_extension": ".py",
   "mimetype": "text/x-python",
   "name": "python",
   "nbconvert_exporter": "python",
   "pygments_lexer": "ipython3",
   "version": "3.9.11"
  },
  "orig_nbformat": 4
 },
 "nbformat": 4,
 "nbformat_minor": 2
}
